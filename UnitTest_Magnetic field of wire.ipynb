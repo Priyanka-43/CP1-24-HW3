{
  "nbformat": 4,
  "nbformat_minor": 0,
  "metadata": {
    "colab": {
      "provenance": [],
      "authorship_tag": "ABX9TyNvv/fpi/Rmv8M0M+gq8es6",
      "include_colab_link": true
    },
    "kernelspec": {
      "name": "python3",
      "display_name": "Python 3"
    },
    "language_info": {
      "name": "python"
    }
  },
  "cells": [
    {
      "cell_type": "markdown",
      "metadata": {
        "id": "view-in-github",
        "colab_type": "text"
      },
      "source": [
        "<a href=\"https://colab.research.google.com/github/Priyanka-43/CP1-24-HW3/blob/Documentation_MagneticFieldOfStraightLine/UnitTest_Magnetic%20field%20of%20wire.ipynb\" target=\"_parent\"><img src=\"https://colab.research.google.com/assets/colab-badge.svg\" alt=\"Open In Colab\"/></a>"
      ]
    },
    {
      "cell_type": "code",
      "execution_count": null,
      "metadata": {
        "colab": {
          "base_uri": "https://localhost:8080/",
          "height": 384
        },
        "id": "gN5ra5hQEGxH",
        "outputId": "23de5cab-e718-470b-d622-d8dd18aa2bb5"
      },
      "outputs": [
        {
          "output_type": "error",
          "ename": "ModuleNotFoundError",
          "evalue": "No module named 'magnetic_field'",
          "traceback": [
            "\u001b[0;31m---------------------------------------------------------------------------\u001b[0m",
            "\u001b[0;31mModuleNotFoundError\u001b[0m                       Traceback (most recent call last)",
            "\u001b[0;32m<ipython-input-1-312fce8e432a>\u001b[0m in \u001b[0;36m<cell line: 2>\u001b[0;34m()\u001b[0m\n\u001b[1;32m      1\u001b[0m \u001b[0;32mimport\u001b[0m \u001b[0munittest\u001b[0m\u001b[0;34m\u001b[0m\u001b[0;34m\u001b[0m\u001b[0m\n\u001b[0;32m----> 2\u001b[0;31m \u001b[0;32mimport\u001b[0m \u001b[0mmagnetic_field\u001b[0m   \u001b[0;31m# Import the function\u001b[0m\u001b[0;34m\u001b[0m\u001b[0;34m\u001b[0m\u001b[0m\n\u001b[0m\u001b[1;32m      3\u001b[0m \u001b[0;34m\u001b[0m\u001b[0m\n\u001b[1;32m      4\u001b[0m \u001b[0;31m# Import the magnetic_field function from your code\u001b[0m\u001b[0;34m\u001b[0m\u001b[0;34m\u001b[0m\u001b[0m\n\u001b[1;32m      5\u001b[0m \u001b[0;34m\u001b[0m\u001b[0m\n",
            "\u001b[0;31mModuleNotFoundError\u001b[0m: No module named 'magnetic_field'",
            "",
            "\u001b[0;31m---------------------------------------------------------------------------\u001b[0;32m\nNOTE: If your import is failing due to a missing package, you can\nmanually install dependencies using either !pip or !apt.\n\nTo view examples of installing some common dependencies, click the\n\"Open Examples\" button below.\n\u001b[0;31m---------------------------------------------------------------------------\u001b[0m\n"
          ],
          "errorDetails": {
            "actions": [
              {
                "action": "open_url",
                "actionText": "Open Examples",
                "url": "/notebooks/snippets/importing_libraries.ipynb"
              }
            ]
          }
        }
      ],
      "source": [
        "import unittest\n",
        "import magnetic_field   # Import the function\n",
        "\n",
        "# Import the magnetic_field function from your code\n",
        "\n",
        "\n",
        "class Test_calculate_magnetic_field(unittest.TestCase):\n",
        "    def test_calculate_magnetic_field(self):\n",
        "        # Define a list of lengths of distances\n",
        "        d = [0.01, 0.1, 0.2, 0.3, 0.4, 0.5, 100]\n",
        "        # Define the current\n",
        "        I = 10.0\n",
        "\n",
        "        # Calculate the expected magnetic field\n",
        "        expected_magnetic_field = [2.00e-04, 2.00e-05, 1.00e-05, 6.67e-06, 5.00e-06, 4.00e-06, 2.00e-08]\n",
        "\n",
        "        # Use the magnetic_field() function to calculate the magnetic field\n",
        "        # Convert the map object to a list\n",
        "        actual_magnetic_field = list(map(magnetic_field, I, d))\n",
        "        #or [magnetic_field(x) for x in d] #Using list comprehension\n",
        "        #or list(map(lambda x: magnetic_field(10,x),d)) #using labmda function inside map()\n",
        "\n",
        "        # Assert that the actual magnetic fields are equal to the expected magnetic fields\n",
        "        # Using assertAlmostEqual for floating-point comparisons to avoid precision issues\n",
        "        for i in range(len(d)):\n",
        "            self.assertAlmostEqual(actual_magnetic_field[i], expected_magnetic_field[i], places=7)\n",
        "\n",
        "# Run the tests without exiting the kernel in a Jupyter environment\n",
        "# if __name__ == '__main__':\n",
        "#   unittest.main(argv=['first-arg-is-ignored'], exit=False) # if in jupyter notebook\n",
        "\n",
        "# If running as a standalone script, use:\n",
        "if __name__ == '__main__':\n",
        "    unittest.main()"
      ]
    }
  ]
}